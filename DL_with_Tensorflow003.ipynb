{
  "nbformat": 4,
  "nbformat_minor": 0,
  "metadata": {
    "colab": {
      "provenance": [],
      "authorship_tag": "ABX9TyNIWFLXwKPS4iLdKLONGOjl",
      "include_colab_link": true
    },
    "kernelspec": {
      "name": "python3",
      "display_name": "Python 3"
    },
    "language_info": {
      "name": "python"
    },
    "accelerator": "GPU"
  },
  "cells": [
    {
      "cell_type": "markdown",
      "metadata": {
        "id": "view-in-github",
        "colab_type": "text"
      },
      "source": [
        "<a href=\"https://colab.research.google.com/github/omotoshoahmad/Tensorflowing/blob/main/DL_with_Tensorflow003.ipynb\" target=\"_parent\"><img src=\"https://colab.research.google.com/assets/colab-badge.svg\" alt=\"Open In Colab\"/></a>"
      ]
    },
    {
      "cell_type": "markdown",
      "source": [
        "## Changing the Data type of tensors"
      ],
      "metadata": {
        "id": "p1vkqiddcjNB"
      }
    },
    {
      "cell_type": "code",
      "source": [
        "import tensorflow as tf"
      ],
      "metadata": {
        "id": "dos3UApc8q5Q"
      },
      "execution_count": null,
      "outputs": []
    },
    {
      "cell_type": "code",
      "source": [
        "# create a new tensor with default datatype (float32)\n",
        "B = tf.constant  ([1.7, 7.4])\n",
        "B.dtype"
      ],
      "metadata": {
        "colab": {
          "base_uri": "https://localhost:8080/"
        },
        "id": "6HwMD6cf7QE_",
        "outputId": "a78706e9-f476-4774-cc0b-4690a4e045ce"
      },
      "execution_count": null,
      "outputs": [
        {
          "output_type": "execute_result",
          "data": {
            "text/plain": [
              "tf.float32"
            ]
          },
          "metadata": {},
          "execution_count": 3
        }
      ]
    },
    {
      "cell_type": "code",
      "source": [
        "# create a new tensor with default datatype (int32)\n",
        "C = tf.constant  ([7, 10])\n",
        "C.dtype"
      ],
      "metadata": {
        "colab": {
          "base_uri": "https://localhost:8080/"
        },
        "id": "QA5ir_hO88nL",
        "outputId": "9b0f75eb-982a-4112-d10a-f61b3724d486"
      },
      "execution_count": null,
      "outputs": [
        {
          "output_type": "execute_result",
          "data": {
            "text/plain": [
              "tf.int32"
            ]
          },
          "metadata": {},
          "execution_count": 4
        }
      ]
    },
    {
      "cell_type": "code",
      "source": [
        "# change the bit precision from 32 to 16\n",
        "D = tf.cast(B, dtype=tf.float16)\n",
        "D, D.dtype\n",
        "\n",
        "F = tf.cast(C, dtype=tf.float16)\n",
        "F, F.dtype"
      ],
      "metadata": {
        "colab": {
          "base_uri": "https://localhost:8080/"
        },
        "id": "PUpmX6Z99Gyx",
        "outputId": "4bfea111-b9c1-47f7-ac2a-5f546cc329cf"
      },
      "execution_count": null,
      "outputs": [
        {
          "output_type": "execute_result",
          "data": {
            "text/plain": [
              "(<tf.Tensor: shape=(2,), dtype=float16, numpy=array([ 7., 10.], dtype=float16)>,\n",
              " tf.float16)"
            ]
          },
          "metadata": {},
          "execution_count": 5
        }
      ]
    },
    {
      "cell_type": "markdown",
      "source": [
        "###  Aggregating tensors\n",
        "Aggregating sensors is coombining them by carrying various operations on either a single tensor or a combination of tensors."
      ],
      "metadata": {
        "id": "1wDTYRDS-aww"
      }
    },
    {
      "cell_type": "code",
      "source": [
        "# get the absolute values of a tensor\n",
        "D = tf.constant([-7, -10])\n",
        "D\n",
        "\n",
        "tf.abs(D)"
      ],
      "metadata": {
        "colab": {
          "base_uri": "https://localhost:8080/"
        },
        "id": "OdmVsUWn_t2b",
        "outputId": "b575d82f-961f-43ee-b3d1-9343de0c6ee8"
      },
      "execution_count": null,
      "outputs": [
        {
          "output_type": "execute_result",
          "data": {
            "text/plain": [
              "<tf.Tensor: shape=(2,), dtype=int32, numpy=array([ 7, 10], dtype=int32)>"
            ]
          },
          "metadata": {},
          "execution_count": 6
        }
      ]
    },
    {
      "cell_type": "markdown",
      "source": [
        "More aggregation on tensors\n",
        "\n",
        "\n",
        "*   Maximum value in a sensor\n",
        "*   Minimum value in a tensor\n",
        "* Mean values of a tensors\n",
        "* median values of a tensor\n",
        "\n",
        "\n"
      ],
      "metadata": {
        "id": "lgKwxHR8CH07"
      }
    },
    {
      "cell_type": "code",
      "source": [
        "import numpy as np\n",
        "# create a random tensor \n",
        "E = tf.constant(np.random.randint(0, 100, size=50))\n",
        "\n",
        "tf.size(E), E.shape, E.ndim"
      ],
      "metadata": {
        "colab": {
          "base_uri": "https://localhost:8080/"
        },
        "id": "YduchOyCCrCL",
        "outputId": "f9190248-0b1d-4ae3-86be-9c3d3650b275"
      },
      "execution_count": null,
      "outputs": [
        {
          "output_type": "execute_result",
          "data": {
            "text/plain": [
              "(<tf.Tensor: shape=(), dtype=int32, numpy=50>, TensorShape([50]), 1)"
            ]
          },
          "metadata": {},
          "execution_count": 7
        }
      ]
    },
    {
      "cell_type": "code",
      "source": [
        "# find the minimum\n",
        "print(tf.reduce_min(E))\n",
        "\n",
        "# find the max\n",
        "tf.reduce_max(E)"
      ],
      "metadata": {
        "colab": {
          "base_uri": "https://localhost:8080/"
        },
        "id": "KDHiUijyDK6K",
        "outputId": "2583e527-a4fd-4d29-eb09-4de305ec2196"
      },
      "execution_count": null,
      "outputs": [
        {
          "output_type": "stream",
          "name": "stdout",
          "text": [
            "tf.Tensor(0, shape=(), dtype=int64)\n"
          ]
        },
        {
          "output_type": "execute_result",
          "data": {
            "text/plain": [
              "<tf.Tensor: shape=(), dtype=int64, numpy=96>"
            ]
          },
          "metadata": {},
          "execution_count": 8
        }
      ]
    },
    {
      "cell_type": "code",
      "source": [
        "# find the mean\n",
        "tf.reduce_mean (E)\n",
        "\n",
        "print(E)"
      ],
      "metadata": {
        "colab": {
          "base_uri": "https://localhost:8080/"
        },
        "id": "kkwLkEblE9pB",
        "outputId": "91ac46bb-5e28-48e8-e3a1-458d9e2ee5e4"
      },
      "execution_count": null,
      "outputs": [
        {
          "output_type": "stream",
          "name": "stdout",
          "text": [
            "tf.Tensor(\n",
            "[23 16 66  6 14 37 29 64 53 74  0 60 61 78 27  3 10 52  8 85 51 70 67 17\n",
            " 29 50 28 66 96 59 22 72 76  3 43 86 67 76 81 52 67 74 30 65 60  6 51 66\n",
            " 32  6], shape=(50,), dtype=int64)\n"
          ]
        }
      ]
    },
    {
      "cell_type": "code",
      "source": [
        "# ?find the variance and standard deviation\n",
        "E = tf.cast(E, dtype=tf.float32)\n",
        "print(tf.math.reduce_variance(E))\n",
        "\n",
        "# find the standard deviation\n",
        "print(tf.math.reduce_std(E))"
      ],
      "metadata": {
        "colab": {
          "base_uri": "https://localhost:8080/"
        },
        "id": "YoC0zjhsHiTI",
        "outputId": "e5a3626a-2a15-4045-e81b-87e8a1881e03"
      },
      "execution_count": null,
      "outputs": [
        {
          "output_type": "stream",
          "name": "stdout",
          "text": [
            "tf.Tensor(713.5376, shape=(), dtype=float32)\n",
            "tf.Tensor(26.712124, shape=(), dtype=float32)\n"
          ]
        }
      ]
    },
    {
      "cell_type": "markdown",
      "source": [
        "We can also use the teensorflow probability module to find the variance"
      ],
      "metadata": {
        "id": "idJ37h3HNkup"
      }
    },
    {
      "cell_type": "code",
      "source": [
        "import tensorflow_probability as tfp\n",
        "print(tfp.stats.variance(E))"
      ],
      "metadata": {
        "id": "EggFYXK-Nui4",
        "colab": {
          "base_uri": "https://localhost:8080/"
        },
        "outputId": "b2027d9f-4a0a-4059-ad86-d766e9d24292"
      },
      "execution_count": null,
      "outputs": [
        {
          "output_type": "stream",
          "name": "stdout",
          "text": [
            "tf.Tensor(713.5376, shape=(), dtype=float32)\n"
          ]
        }
      ]
    },
    {
      "cell_type": "markdown",
      "source": [
        "## Finding positional Maximum and Minimum\n",
        "\n",
        "The essence of this, is to make a decision on your output tensor. Most times the NN returns an output tensor containing rows of predict probability, the positional max refers to the column with the highest probability in a row and positional minimum refers to the column with the lowest probability in a row.\n"
      ],
      "metadata": {
        "id": "7oK37E_WiHs_"
      }
    },
    {
      "cell_type": "code",
      "source": [
        "#  create a dummy tensor\n",
        "tf.random.set_seed(42)\n",
        "\n",
        "F = tf.random.uniform (shape = [50])"
      ],
      "metadata": {
        "id": "1dT1QdEziZ00"
      },
      "execution_count": null,
      "outputs": []
    },
    {
      "cell_type": "code",
      "source": [
        "# Find positional maximum\n",
        "p_max = tf.argmax(F)\n",
        "\n",
        "F[p_max]"
      ],
      "metadata": {
        "colab": {
          "base_uri": "https://localhost:8080/"
        },
        "id": "Arc2ovNemOIM",
        "outputId": "e7bb2324-91c6-4d82-dd6f-8bfb280636a3"
      },
      "execution_count": null,
      "outputs": [
        {
          "output_type": "execute_result",
          "data": {
            "text/plain": [
              "<tf.Tensor: shape=(), dtype=float32, numpy=0.9671384>"
            ]
          },
          "metadata": {},
          "execution_count": 13
        }
      ]
    },
    {
      "cell_type": "code",
      "source": [
        "# The maximum value of F can also be found using reduce_max\n",
        "tf.reduce_max(F)"
      ],
      "metadata": {
        "colab": {
          "base_uri": "https://localhost:8080/"
        },
        "id": "jVeW9rQhmfvQ",
        "outputId": "655e7c72-f652-45d4-e15f-bd7932908e4b"
      },
      "execution_count": null,
      "outputs": [
        {
          "output_type": "execute_result",
          "data": {
            "text/plain": [
              "<tf.Tensor: shape=(), dtype=float32, numpy=0.9671384>"
            ]
          },
          "metadata": {},
          "execution_count": 14
        }
      ]
    },
    {
      "cell_type": "code",
      "source": [
        "# Finding the positional minimum\n",
        "F[tf.argmin(F)]"
      ],
      "metadata": {
        "colab": {
          "base_uri": "https://localhost:8080/"
        },
        "id": "gK5Apq1Rm5DS",
        "outputId": "757b9e49-c79f-4d11-9c1b-6d8121a92554"
      },
      "execution_count": null,
      "outputs": [
        {
          "output_type": "execute_result",
          "data": {
            "text/plain": [
              "<tf.Tensor: shape=(), dtype=float32, numpy=0.009463668>"
            ]
          },
          "metadata": {},
          "execution_count": 15
        }
      ]
    },
    {
      "cell_type": "markdown",
      "source": [
        "### 🧰 Create two tensors of different dimensions and find the positional max and minimum."
      ],
      "metadata": {
        "id": "gs8bEDn5nFm1"
      }
    },
    {
      "cell_type": "markdown",
      "source": [
        "### Squeezing a tensor - removing all single dimension"
      ],
      "metadata": {
        "id": "Ju2_NCQHnlO7"
      }
    },
    {
      "cell_type": "code",
      "source": [
        "# create a new tensor\n",
        "E = tf.random.uniform (shape = [1, 1, 1, 1, 50])"
      ],
      "metadata": {
        "id": "AkJRU8jzoVzc"
      },
      "execution_count": null,
      "outputs": []
    },
    {
      "cell_type": "code",
      "source": [
        "tf.squeeze (E)"
      ],
      "metadata": {
        "colab": {
          "base_uri": "https://localhost:8080/"
        },
        "id": "xz26bWqiz8DB",
        "outputId": "a3c1a755-d885-43d3-ad2c-4f614e89c0b7"
      },
      "execution_count": null,
      "outputs": [
        {
          "output_type": "execute_result",
          "data": {
            "text/plain": [
              "<tf.Tensor: shape=(50,), dtype=float32, numpy=\n",
              "array([0.68789124, 0.48447883, 0.9309944 , 0.252187  , 0.73115396,\n",
              "       0.89256823, 0.94674826, 0.7493341 , 0.34925628, 0.54718256,\n",
              "       0.26160395, 0.69734323, 0.11962581, 0.53484344, 0.7148968 ,\n",
              "       0.87501776, 0.33967495, 0.17377627, 0.4418521 , 0.9008261 ,\n",
              "       0.13803864, 0.12217975, 0.5754491 , 0.9417181 , 0.9186585 ,\n",
              "       0.59708476, 0.6109482 , 0.82086265, 0.83269787, 0.8915849 ,\n",
              "       0.01377225, 0.49807465, 0.57503664, 0.6856195 , 0.75972784,\n",
              "       0.908944  , 0.40900218, 0.8765154 , 0.53890026, 0.42733097,\n",
              "       0.401173  , 0.66623247, 0.16348064, 0.18220246, 0.97040176,\n",
              "       0.06139731, 0.53034747, 0.9869994 , 0.4746945 , 0.8646754 ],\n",
              "      dtype=float32)>"
            ]
          },
          "metadata": {},
          "execution_count": 17
        }
      ]
    },
    {
      "cell_type": "markdown",
      "source": [
        "One-hot encoding"
      ],
      "metadata": {
        "id": "WC2PVeAE0iW_"
      }
    },
    {
      "cell_type": "code",
      "source": [
        "# encoding categorical data is an important step in preparing data for the model.\n",
        "tf.one_hot([0, 1, 2, 3], depth=4)"
      ],
      "metadata": {
        "colab": {
          "base_uri": "https://localhost:8080/"
        },
        "id": "UuIQon9J8zhN",
        "outputId": "bd8e880b-9851-4712-8d42-9516868e2a5b"
      },
      "execution_count": null,
      "outputs": [
        {
          "output_type": "execute_result",
          "data": {
            "text/plain": [
              "<tf.Tensor: shape=(4, 4), dtype=float32, numpy=\n",
              "array([[1., 0., 0., 0.],\n",
              "       [0., 1., 0., 0.],\n",
              "       [0., 0., 1., 0.],\n",
              "       [0., 0., 0., 1.]], dtype=float32)>"
            ]
          },
          "metadata": {},
          "execution_count": 18
        }
      ]
    },
    {
      "cell_type": "markdown",
      "source": [
        "Each column represents the indicies fed into the function, whenever an index is represnted by \"1\" , the rest is represented by \"0\". That means the row represents the object read"
      ],
      "metadata": {
        "id": "SeKUMpsZ9nvg"
      }
    },
    {
      "cell_type": "markdown",
      "source": [
        "### More mathematical operations"
      ],
      "metadata": {
        "id": "vN4hRMWg2_WB"
      }
    },
    {
      "cell_type": "code",
      "source": [
        "# Square \n",
        "H = tf.range(1, 10)"
      ],
      "metadata": {
        "id": "t3rIh8GI3Ie7"
      },
      "execution_count": null,
      "outputs": []
    },
    {
      "cell_type": "code",
      "source": [
        "tf.square (tf.cast(H, dtype=tf.float32))"
      ],
      "metadata": {
        "colab": {
          "base_uri": "https://localhost:8080/"
        },
        "id": "6A3uYdKU5I1R",
        "outputId": "fd123e45-3871-48b5-9779-375e5de92639"
      },
      "execution_count": null,
      "outputs": [
        {
          "output_type": "execute_result",
          "data": {
            "text/plain": [
              "<tf.Tensor: shape=(9,), dtype=float32, numpy=array([ 1.,  4.,  9., 16., 25., 36., 49., 64., 81.], dtype=float32)>"
            ]
          },
          "metadata": {},
          "execution_count": 20
        }
      ]
    },
    {
      "cell_type": "code",
      "source": [
        "# sqaure root\n",
        "tf.sqrt (tf.cast(H, dtype=tf.float32))"
      ],
      "metadata": {
        "colab": {
          "base_uri": "https://localhost:8080/"
        },
        "id": "MhBQs7B55kLd",
        "outputId": "e9fbc897-0844-4b22-a18d-8127f910ce2b"
      },
      "execution_count": null,
      "outputs": [
        {
          "output_type": "execute_result",
          "data": {
            "text/plain": [
              "<tf.Tensor: shape=(9,), dtype=float32, numpy=\n",
              "array([1.       , 1.4142135, 1.7320508, 2.       , 2.2360678, 2.4494896,\n",
              "       2.6457512, 2.828427 , 3.       ], dtype=float32)>"
            ]
          },
          "metadata": {},
          "execution_count": 21
        }
      ]
    },
    {
      "cell_type": "code",
      "source": [
        "# logarithms\n",
        "tf.math.log ( tf.cast(H, dtype=tf.float32)\n",
        ")"
      ],
      "metadata": {
        "colab": {
          "base_uri": "https://localhost:8080/"
        },
        "id": "4N4a7WK65w4n",
        "outputId": "36a41c15-091b-4ff8-8f93-fb18bcde1bff"
      },
      "execution_count": null,
      "outputs": [
        {
          "output_type": "execute_result",
          "data": {
            "text/plain": [
              "<tf.Tensor: shape=(9,), dtype=float32, numpy=\n",
              "array([0.       , 0.6931472, 1.0986123, 1.3862944, 1.609438 , 1.7917595,\n",
              "       1.9459102, 2.0794415, 2.1972246], dtype=float32)>"
            ]
          },
          "metadata": {},
          "execution_count": 22
        }
      ]
    },
    {
      "cell_type": "markdown",
      "source": [
        "### Neural Network Regression.\n"
      ],
      "metadata": {
        "id": "TbZuL6n_6Z23"
      }
    },
    {
      "cell_type": "code",
      "source": [],
      "metadata": {
        "id": "IiZLv9gvTOfQ"
      },
      "execution_count": null,
      "outputs": []
    }
  ]
}